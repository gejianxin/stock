{
 "cells": [
  {
   "cell_type": "code",
   "execution_count": null,
   "metadata": {},
   "outputs": [],
   "source": [
    "import talib\n",
    "import numpy as np\n",
    "import pandas as pd\n",
    "import math\n",
    "import scipy.stats as stats\n",
    "# import numba as nb"
   ]
  },
  {
   "cell_type": "code",
   "execution_count": null,
   "metadata": {
    "scrolled": false
   },
   "outputs": [],
   "source": [
    "def strided_app(origin_array: np.ndarray,\n",
    "                window: int = 252, step=1) -> np.ndarray:\n",
    "    if origin_array.size > window:\n",
    "        nrows = ((origin_array.size - window) // step) + 1\n",
    "    else:\n",
    "        return origin_array\n",
    "    n = origin_array.strides[0]\n",
    "    return np.lib.stride_tricks.as_strided(origin_array,\n",
    "                                           shape=(nrows, window),\n",
    "                                           strides=(step * n, n))\n",
    "\n",
    "def rolling_poly9(origin_array: np.ndarray, window: int = 252) -> np.ndarray:\n",
    "    '''\n",
    "    一次九项式滚动分解拟合\n",
    "    '''\n",
    "    index = range(window)\n",
    "\n",
    "    def last_poly9(array_input):\n",
    "        fit_params = np.polynomial.Chebyshev.fit(index, array_input, 9)\n",
    "        return fit_params(index)[-1]\n",
    "\n",
    "    if (len(origin_array) > window):\n",
    "        stride_matrix = strided_app(origin_array, window, 1)\n",
    "        # numpy.r_[]按照行方向拼接array，list是列向量形式存储，故仅能拼接array\n",
    "        # numpy.c_[]按照列方向拼接array\n",
    "        # .full()填充ndarray\n",
    "        return np.r_[np.full(window - 1, np.nan),\n",
    "                     np.array(list(map(last_poly9, stride_matrix)))]\n",
    "    else:\n",
    "        index = range(len(origin_array))\n",
    "        fit_params = np.polynomial.Chebyshev.fit(index, origin_array, 9)\n",
    "        y_fit_n = fit_params(index)\n",
    "        return y_fit_n"
   ]
  },
  {
   "cell_type": "code",
   "execution_count": null,
   "metadata": {},
   "outputs": [],
   "source": [
    "df = pd.read_csv('data/data.csv', parse_dates=True, index_col=0)\n",
    "\n",
    "def hma(array2hma: np.array, n: int = 10):\n",
    "    return talib.WMA(2*talib.WMA(array2hma, int(n/2)) - talib.WMA(array2hma, n), int(math.sqrt(n)))\n",
    "# print(df.columns)\n",
    "# print(df.iloc[0:-50,3].values)\n",
    "df = df[0:-10]\n",
    "df['HMA10'] = hma(df['Close'].values)\n",
    "# df['hma10'][~np.isnan(df['hma10'])]\n",
    "# print(df['hma10'])\n",
    "# print(df[hma10 != np.nan])\n",
    "\n",
    "df['POLYNOMIAL9'] = np.r_[np.full(len(df['HMA10'][np.isnan(df['HMA10'])]),np.nan),rolling_poly9(df['HMA10'][~np.isnan(df['HMA10'])].values,252)]\n",
    "# 1）相关性系数r；2）显著性水平p。\n",
    "# 两者的关系为：当p<0.05(或者0.01)的前提下，才可以参考r值，不能仅仅只看r值。\n",
    "df = df.replace([np.inf, -np.inf], np.nan)\n",
    "df = df.dropna(axis=0, how='any')\n",
    "r,p = stats.pearsonr(df['Close'],df['POLYNOMIAL9'])  # 相关系数和P值\n",
    "# print(df)\n",
    "print(df['POLYNOMIAL9'][-50])\n",
    "print('r=%r, p=%r' %(r, p))\n",
    "r,p = stats.pearsonr(df['HMA10'],df['POLYNOMIAL9'])  # 相关系数和P值\n",
    "print('r=%r, p=%r' %(r, p))\n",
    "# rolling_poly9(df['HMA10'][~np.isnan(df['HMA10'])].values,252)]"
   ]
  },
  {
   "cell_type": "code",
   "execution_count": null,
   "metadata": {},
   "outputs": [],
   "source": [
    "a = [4,3,2,1]\n",
    "def inverse_num(series):\n",
    "    # 因为numba不支持enumerate，所以后动计算逆序\n",
    "    count = 0\n",
    "    for i in range(len(series)-1):\n",
    "        for j in range(i+1, len(series)):\n",
    "            if series[i] > series[j]:\n",
    "                count += 1\n",
    "        i += 1\n",
    "    return count\n",
    "\n",
    "inverse_num(a)"
   ]
  },
  {
   "cell_type": "code",
   "execution_count": null,
   "metadata": {},
   "outputs": [],
   "source": [
    "import numpy as np\n",
    "import numba as nb\n",
    "import pandas as pd\n",
    "\n",
    "\n",
    "@nb.jit(nopython=True)\n",
    "def thresholding_algo(y, lag, threshold, influence):\n",
    "    \"\"\"\n",
    "    Robust peak detection algorithm (using z-scores)\n",
    "    自带鲁棒性极值点识别，利用方差和ZSCORE进行时间序列极值检测。算法源自：\n",
    "    https://stackoverflow.com/questions/22583391/\n",
    "    本实现使用Numba JIT优化，比原版（上面）大约快了500倍。\n",
    "    \"\"\"\n",
    "    signals = np.zeros((3, len(y)), dtype=np.float64)  # 生成3行、len(y)列的全0二维数组\n",
    "    idx_signals = 0\n",
    "    idx_avgFilter = 1\n",
    "    idx_stdFilter = 2\n",
    "\n",
    "    filteredY = np.copy(y)\n",
    "    # signals二维数组的第一行全0\n",
    "    signals[idx_avgFilter, lag-1] = np.mean(y[0:lag])  # signals二维数组第二行首个非0元素计算公式\n",
    "    signals[idx_stdFilter, lag-1] = np.std(y[0:lag])  # signals二维数组第三行首个非0元素计算公式\n",
    "    for i in range(lag, len(y)):\n",
    "        # 把y当前元素与signals第二行前一个元素的差与阈值threshold乘以signals第三行前一个元素的积进行比较\n",
    "        if abs(y[i] - signals[idx_avgFilter, i-1]) > threshold * signals[idx_stdFilter, i-1]:\n",
    "            if y[i] > signals[idx_avgFilter, i-1]:\n",
    "                signals[idx_signals, i] = 1\n",
    "            else:\n",
    "                signals[idx_signals, i] = -1\n",
    "\n",
    "            # filteredY从0~lag-1等于y[0:lag]，从filteredY[lag]开始\n",
    "            # 当前元素值等于影响因子influence和y当前位置元素乘积\n",
    "            # 并加上1-influence乘以filteredY前一位置元素\n",
    "            filteredY[i] = influence * y[i] + (1-influence) * filteredY[i-1]\n",
    "            # signals第二行第i+1个元素等于filteredY前lag个元素的均值\n",
    "            signals[idx_avgFilter, i] = np.mean(filteredY[(i-lag):i])\n",
    "            # signals第三行第i+1个元素等于filteredY前lag个元素的均值\n",
    "            signals[idx_stdFilter, i] = np.std(filteredY[(i-lag):i])\n",
    "        else:\n",
    "            signals[idx_signals, i] = 0\n",
    "            filteredY[i] = y[i]\n",
    "            signals[idx_avgFilter, i] = np.mean(filteredY[(i-lag):i])\n",
    "            signals[idx_stdFilter, i] = np.std(filteredY[(i-lag):i])\n",
    "\n",
    "    return signals"
   ]
  },
  {
   "cell_type": "code",
   "execution_count": null,
   "metadata": {},
   "outputs": [],
   "source": [
    "lag=5\n",
    "threshold=3.5\n",
    "influence=0.5\n",
    "df = pd.read_csv('data/data.csv', parse_dates=True, index_col=0)\n",
    "data = np.array(df.Close)\n",
    "peak = thresholding_algo(data, lag=lag, threshold=threshold, influence=influence)[0,:]\n",
    "print(peak)"
   ]
  },
  {
   "cell_type": "code",
   "execution_count": null,
   "metadata": {},
   "outputs": [],
   "source": [
    "import numpy as np\n",
    "import numba as nb\n",
    "import pandas as pd\n",
    "import talib\n",
    "\n",
    "df = pd.read_csv('data/data.csv', parse_dates=True, index_col=0)\n",
    "data = np.array(df.Close)\n",
    "\n",
    "\n",
    "def ma_power(data, range_list=range(5, 30)):\n",
    "    def inverse_num(series):\n",
    "        # 计算逆序\n",
    "        count = 0\n",
    "        for i in range(len(series)-1):\n",
    "            for j in range(i+1, len(series)):\n",
    "                if series[i] > series[j]:\n",
    "                    count += 1\n",
    "            i += 1\n",
    "        return count\n",
    "\n",
    "    # 准备收盘价，初始化ma多维数组\n",
    "    ma_np = np.empty((len(data), len(range_list)))\n",
    "    ma_count = 0\n",
    "\n",
    "    # 列向量对应MA5-MA30\n",
    "    for r in range_list:\n",
    "        ma = talib.MA(data, r)\n",
    "        ma_np[:, ma_count] = ma\n",
    "        ma_count += 1\n",
    "\n",
    "    ma_max = max(range_list)\n",
    "    len_range_list = len(range_list)\n",
    "    num = np.zeros(len(data))\n",
    "    ratio = np.zeros(len(data))\n",
    "    with np.errstate(invalid='ignore', divide='ignore'):\n",
    "        for i in range(ma_max, len(data)):\n",
    "            num[i] = inverse_num(ma_np[i, :])\n",
    "            ratio[i] = num[i] / (len_range_list * (len_range_list - 1)) * 2\n",
    "\n",
    "    return ratio\n"
   ]
  },
  {
   "cell_type": "code",
   "execution_count": null,
   "metadata": {},
   "outputs": [],
   "source": [
    "print(ma_power(data))"
   ]
  },
  {
   "cell_type": "code",
   "execution_count": null,
   "metadata": {},
   "outputs": [],
   "source": [
    "import psycopg2\r\n",
    "from psycopg2 import Error\r\n",
    "\r\n",
    "try:\r\n",
    "    connection = psycopg2.connect(user=\"postgres\",\r\n",
    "                                    #   password=\"postgres\",\r\n",
    "                                      host=\"127.0.0.1\",\r\n",
    "                                      port=\"5432\",\r\n",
    "                                      database=\"stock\")\r\n",
    "\r\n",
    "    # Create a cursor to perform database operations\r\n",
    "    cursor = connection.cursor()\r\n",
    "    # Print PostgreSQL details\r\n",
    "    print(\"PostgreSQL server information\")\r\n",
    "    print(connection.get_dsn_parameters(), \"\\n\")\r\n",
    "    # Executing a SQL query\r\n",
    "    cursor.execute(\"SELECT version();\")\r\n",
    "    # Fetch result\r\n",
    "except (Exception, Error) as error:\r\n",
    "    print(\"Error while connecting to PostgreSQL\", error)\r\n",
    "finally:\r\n",
    "    cursor.close()\r\n",
    "    connection.close()\r\n",
    "    print(\"PostgreSQL connection is closed\")\r\n"
   ]
  },
  {
   "cell_type": "code",
   "execution_count": null,
   "metadata": {},
   "outputs": [],
   "source": [
    "import tushare as ts\r\n",
    "from config.essential import TOKEN\r\n",
    "\r\n",
    "\r\n",
    "pro = ts.pro_api(TOKEN)\r\n",
    "data = pro.query('stock_basic', exchange='', list_status='L', fields='ts_code,symbol,name,area,industry,list_date')"
   ]
  },
  {
   "cell_type": "code",
   "execution_count": 67,
   "metadata": {},
   "outputs": [
    {
     "name": "stdout",
     "output_type": "stream",
     "text": [
      "2020-01-10\n"
     ]
    }
   ],
   "source": [
    "from datetime import date\r\n",
    "from datetime import timedelta\r\n",
    "\r\n",
    "res=date(2020,1,11)-timedelta(days=1)\r\n",
    "print(res)"
   ]
  },
  {
   "cell_type": "code",
   "execution_count": 56,
   "metadata": {},
   "outputs": [],
   "source": [
    "import psycopg2\r\n",
    "from psycopg2 import Error\r\n",
    "from config.essential import DB\r\n",
    "\r\n",
    "\r\n",
    "try:\r\n",
    "    # Connect to an existing database\r\n",
    "    connection = psycopg2.connect(user=DB['username'],\r\n",
    "                                    # password=\"123456\",\r\n",
    "                                    host=DB['host'],\r\n",
    "                                    port=DB['port'],\r\n",
    "                                    database=DB['database'])\r\n",
    "\r\n",
    "    # Create a cursor to perform database operations\r\n",
    "    cursor = connection.cursor()\r\n",
    "    # Print PostgreSQL details\r\n",
    "    # print(\"PostgreSQL server information\")\r\n",
    "    # print(connection.get_dsn_parameters(), \"\\n\")\r\n",
    "    # Executing a SQL query\r\n",
    "    # cursor.execute(\"SELECT version();\")\r\n",
    "    # Fetch result\r\n",
    "    # record = cursor.fetchone()\r\n",
    "    # print(\"You are connected to - \", record, \"\\n\")\r\n",
    "    cursor.execute(data.SQL)\r\n",
    "\r\n",
    "except (Exception, Error) as error:\r\n",
    "    print(\"Error while connecting to PostgreSQL\", error)\r\n",
    "finally:\r\n",
    "    cursor.close()\r\n",
    "    connection.close()"
   ]
  },
  {
   "cell_type": "code",
   "execution_count": 78,
   "metadata": {},
   "outputs": [
    {
     "name": "stdout",
     "output_type": "stream",
     "text": [
      "2000-01-01 00:00:00 -1\n"
     ]
    }
   ],
   "source": [
    "from datetime import date\r\n",
    "from datetime import datetime as dt\r\n",
    "a = dt.strptime('2000-01-01','%Y-%m-%d')\r\n",
    "b = dt.strptime('2000-01-02','%Y-%m-%d')\r\n",
    "c = (a-b).days\r\n",
    "print(a, c)"
   ]
  }
 ],
 "metadata": {
  "interpreter": {
   "hash": "718d91d85e7b59cfcf17c81aa38a885d0985cff083e53af9937fe7d5deb25dec"
  },
  "kernelspec": {
   "display_name": "Python 3.8.10 64-bit ('base': conda)",
   "name": "python3"
  },
  "language_info": {
   "codemirror_mode": {
    "name": "ipython",
    "version": 3
   },
   "file_extension": ".py",
   "mimetype": "text/x-python",
   "name": "python",
   "nbconvert_exporter": "python",
   "pygments_lexer": "ipython3",
   "version": "3.8.10"
  }
 },
 "nbformat": 4,
 "nbformat_minor": 4
}