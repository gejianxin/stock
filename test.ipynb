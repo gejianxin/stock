{
 "cells": [
  {
   "cell_type": "code",
   "execution_count": 1,
   "metadata": {},
   "outputs": [],
   "source": [
    "import numpy as np\n",
    "def strided_app(a, L, S):  \n",
    "    '''\n",
    "    Pandas rolling for numpy\n",
    "    # Window len = L, Stride len/stepsize = S\n",
    "    '''\n",
    "    nrows = ((a.size - L) // S) + 1\n",
    "    n = a.strides[0]\n",
    "    return np.lib.stride_tricks.as_strided(a, shape=(nrows,L), strides=(S * n,n))"
   ]
  },
  {
   "cell_type": "code",
   "execution_count": null,
   "metadata": {},
   "outputs": [],
   "source": []
  },
  {
   "cell_type": "code",
   "execution_count": 69,
   "metadata": {},
   "outputs": [
    {
     "name": "stdout",
     "output_type": "stream",
     "text": [
      "[1 2 3 4 5]\n"
     ]
    },
    {
     "data": {
      "text/plain": [
       "array([[1, 2, 3],\n",
       "       [2, 3, 4],\n",
       "       [3, 4, 5],\n",
       "       [4, 5, 6]])"
      ]
     },
     "execution_count": 69,
     "metadata": {},
     "output_type": "execute_result"
    }
   ],
   "source": [
    "a = np.array([1,2,3,4,5,6])\n",
    "print(a[0:5])\n",
    "strided_app(a, 3, 1)"
   ]
  },
  {
   "cell_type": "code",
   "execution_count": 11,
   "metadata": {},
   "outputs": [
    {
     "data": {
      "text/plain": [
       "array([[          1,           4,   835042326,   538970665,   539766875,\n",
       "        -2147467488]])"
      ]
     },
     "execution_count": 11,
     "metadata": {},
     "output_type": "execute_result"
    }
   ],
   "source": [
    "strided_app(a, 6, 1)"
   ]
  },
  {
   "cell_type": "code",
   "execution_count": 42,
   "metadata": {},
   "outputs": [
    {
     "data": {
      "text/plain": [
       "array([[         4,          5,          0],\n",
       "       [         5,          0, -735354336],\n",
       "       [         0, -735354336, -735354336],\n",
       "       [-735354336, -735354336, -730037280],\n",
       "       [-735354336, -730037280,          2],\n",
       "       [-730037280,          2,          8]])"
      ]
     },
     "execution_count": 42,
     "metadata": {},
     "output_type": "execute_result"
    }
   ],
   "source": [
    "strided_app(a, 3, 1)"
   ]
  },
  {
   "cell_type": "code",
   "execution_count": 41,
   "metadata": {},
   "outputs": [
    {
     "data": {
      "text/plain": [
       "array([[nan, nan],\n",
       "       [nan, nan],\n",
       "       [nan, nan]])"
      ]
     },
     "execution_count": 41,
     "metadata": {},
     "output_type": "execute_result"
    }
   ],
   "source": [
    "np.full([3,2],np.nan)"
   ]
  },
  {
   "cell_type": "code",
   "execution_count": 22,
   "metadata": {},
   "outputs": [
    {
     "data": {
      "text/plain": [
       "6"
      ]
     },
     "execution_count": 22,
     "metadata": {},
     "output_type": "execute_result"
    }
   ],
   "source": [
    "a = [4,3,2,1]\n",
    "def inverse_num(series):\n",
    "    # 因为numba不支持enumerate，所以后动计算逆序\n",
    "    count = 0\n",
    "    for i in range(len(series)-1):\n",
    "        for j in range(i+1, len(series)):\n",
    "            if series[i] > series[j]:\n",
    "                count += 1\n",
    "        i += 1\n",
    "    return count\n",
    "\n",
    "inverse_num(a)"
   ]
  },
  {
   "cell_type": "code",
   "execution_count": 40,
   "metadata": {
    "scrolled": false
   },
   "outputs": [
    {
     "name": "stdout",
     "output_type": "stream",
     "text": [
      "a.size 8\n",
      "nrows 3\n",
      "window size 4, step 2\n",
      "[[         4          5          0 -735354336]\n",
      " [         0 -735354336 -735354336 -730037280]\n",
      " [-735354336 -730037280          2          8]]\n"
     ]
    }
   ],
   "source": [
    "a = np.array([[4,3,2,1],[5,6,7,8]])\n",
    "a.strides\n",
    "print('a.size {}'.format(a.size))\n",
    "nrows = ((a.size - 4) // 2) + 1\n",
    "print('nrows {}'.format(nrows))\n",
    "print('window size 4, step 2')\n",
    "n = a.strides[0]\n",
    "b = np.lib.stride_tricks.as_strided(a, shape=(nrows,4), strides=(2 * n,n))\n",
    "print(b)"
   ]
  },
  {
   "cell_type": "code",
   "execution_count": 82,
   "metadata": {},
   "outputs": [
    {
     "data": {
      "text/plain": [
       "array([[1, 2, 3, 4, 5],\n",
       "       [2, 3, 4, 5, 6],\n",
       "       [3, 4, 5, 6, 7],\n",
       "       [4, 5, 6, 7, 8],\n",
       "       [5, 6, 7, 8, 9]])"
      ]
     },
     "execution_count": 82,
     "metadata": {},
     "output_type": "execute_result"
    }
   ],
   "source": [
    "def slip_window_concat_array(origin_array: array, window: int = 5, step: int = 1):\n",
    "    if len(origin_array) > window:\n",
    "        new_array = origin_array[0:window]\n",
    "        for i in range(1, len(origin_array)-window):\n",
    "            slip_array = origin_array[i:i+window]\n",
    "            new_array = np.vstack((new_array, slip_array))\n",
    "    return new_array\n",
    "\n",
    "a = np.array([1,2,3,4,5,6,7,8,9,10])\n",
    "\n",
    "new_array=slip_window_concat_array(a)\n",
    "new_array"
   ]
  },
  {
   "cell_type": "code",
   "execution_count": 83,
   "metadata": {},
   "outputs": [
    {
     "data": {
      "text/plain": [
       "array([nan, nan, nan, nan, nan])"
      ]
     },
     "execution_count": 83,
     "metadata": {},
     "output_type": "execute_result"
    }
   ],
   "source": [
    "np.full(5, np.nan)"
   ]
  },
  {
   "cell_type": "code",
   "execution_count": 119,
   "metadata": {
    "scrolled": true
   },
   "outputs": [
    {
     "name": "stdout",
     "output_type": "stream",
     "text": [
      "0\n",
      "1\n",
      "2\n",
      "3\n",
      "4\n",
      "5\n",
      "6\n",
      "cheb([15.91380832  3.97955903 -2.93888045 13.20147243 21.86191664  1.44345089\n",
      "  6.43888045  8.36046964  7.72427504 11.01504801])\n",
      "[11.   2.  32.  42.   5.3  6.  87. ]\n",
      "cheb([ 22.25788913   7.11355328 -10.95569722  -1.94936722 -22.24444342\n",
      " -12.41365192  15.80569722  14.73158757  10.13655429   5.51787828])\n",
      "[ 2.  32.  42.   5.3  6.  87.  28. ]\n",
      "cheb([ 23.67120837   5.15156854 -13.40025532 -14.06559075  -5.00525092\n",
      "  17.3417684   23.15025532 -14.46045807  -2.91595746  -0.46728812])\n",
      "[32.  42.   5.3  6.  87.  28.  19. ]\n",
      "[87.00000000000006, 27.99999999999997, 18.99999999999999]\n"
     ]
    }
   ],
   "source": [
    "index = range(7)\n",
    "for i in index:\n",
    "    print(i)\n",
    "def last_poly9(array_input):\n",
    "        fit_params = np.polynomial.Chebyshev.fit(index, array_input, 9)\n",
    "        print(fit_params)\n",
    "        print(fit_params(index))\n",
    "        return fit_params(index)[-1]\n",
    "a = np.array([11,2,32,42,5.3,6,87,28,19,10.9])\n",
    "new_array=slip_window_concat_array(a,window=7,step=1)\n",
    "\n",
    "print(list(map(last_poly9,new_array)))"
   ]
  },
  {
   "cell_type": "code",
   "execution_count": 133,
   "metadata": {},
   "outputs": [],
   "source": [
    "def strided_app(a, L, S):  \n",
    "    '''\n",
    "    Pandas rolling for numpy\n",
    "    # Window len = L, Stride len/stepsize = S\n",
    "    '''\n",
    "    nrows = ((a.size - L) // S) + 1\n",
    "    n = a.strides[0]\n",
    "    return np.lib.stride_tricks.as_strided(a, shape=(nrows,L), strides=(S * n,n))\n",
    "\n",
    "x = np.random.rand(100)\n",
    "\n",
    "y=strided_app(x, 20, 5)\n",
    "\n",
    "def last_poly(x,y,poly=9):\n",
    "    fit_params = np.polynomial.Chebyshev.fit(x, y, poly)\n",
    "    return fit_params(x)[-1]"
   ]
  },
  {
   "cell_type": "code",
   "execution_count": 136,
   "metadata": {},
   "outputs": [],
   "source": [
    "def slip_window_concat_array(origin_array: np.array, window: int = 252, step: int = 1):\n",
    "    new_array = origin_array[0:window]\n",
    "    for i in range(step, len(origin_array)-window, step):\n",
    "        slip_array = origin_array[i:i+window]\n",
    "        new_array = np.vstack((new_array, slip_array))\n",
    "    return new_array"
   ]
  },
  {
   "cell_type": "markdown",
   "metadata": {},
   "source": [
    "a = np.array([1,2,3,4,5,6,7,8,9,10])\n",
    "new_array=slip_window_concat_array(a)\n",
    "new_array"
   ]
  },
  {
   "cell_type": "code",
   "execution_count": 157,
   "metadata": {},
   "outputs": [
    {
     "data": {
      "text/plain": [
       "array([[  0,   1,   2, ..., 249, 250, 251],\n",
       "       [  5,   6,   7, ..., 254, 255, 256],\n",
       "       [ 10,  11,  12, ..., 259, 260, 261],\n",
       "       ...,\n",
       "       [735, 736, 737, ..., 984, 985, 986],\n",
       "       [740, 741, 742, ..., 989, 990, 991],\n",
       "       [745, 746, 747, ..., 994, 995, 996]])"
      ]
     },
     "execution_count": 157,
     "metadata": {},
     "output_type": "execute_result"
    }
   ],
   "source": [
    "a = np.array(range(1000))\n",
    "new_array=slip_window_concat_array(a,step=5)\n",
    "new_array"
   ]
  },
  {
   "cell_type": "code",
   "execution_count": 158,
   "metadata": {},
   "outputs": [
    {
     "name": "stdout",
     "output_type": "stream",
     "text": [
      "150\n",
      "252\n",
      "[251.0000000000002, 256.0000000000002, 261.00000000000017, 266.0000000000002, 271.0000000000001, 276.00000000000017, 281.00000000000017, 286.0000000000002, 291.0000000000003, 296.0000000000002, 301.0000000000002, 306.0000000000002, 311.00000000000017, 316.0000000000001, 321.00000000000006, 326.00000000000017, 331.0000000000002, 336.00000000000017, 340.99999999999994, 346.0000000000001, 350.99999999999994, 356.0, 361.00000000000034, 366.0000000000001, 371.00000000000034, 376.0000000000004, 381.00000000000045, 386.0000000000001, 391.00000000000034, 395.99999999999994, 401.00000000000034, 406.0000000000004, 411.0000000000002, 416.0, 421.00000000000006, 425.9999999999999, 431.00000000000017, 436.0000000000001, 441.00000000000045, 445.99999999999983, 451.0, 456.00000000000006, 461.0, 466.0000000000003, 471.0000000000003, 475.99999999999994, 481.00000000000017, 486.00000000000034, 490.99999999999994, 496.00000000000017, 501.00000000000045, 506.0000000000002, 511.00000000000034, 516.0000000000002, 521.0000000000003, 526.0000000000003, 531.0000000000002, 536.0000000000006, 541.0000000000002, 546.0000000000005, 551.0, 556.0000000000002, 561.0000000000002, 565.9999999999999, 571.0000000000001, 576.0, 581.0000000000006, 586.0000000000005, 591.0000000000003, 596.0000000000001, 601.0000000000002, 606.0000000000002, 611.0000000000002, 616.0000000000006, 621.0, 626.0000000000008, 631.0000000000009, 636.0000000000003, 641.0000000000002, 646.0, 651.0000000000002, 656.0000000000003, 661.0000000000003, 666.0, 671.0000000000003, 676.0000000000002, 681.0000000000007, 685.9999999999999, 691.0000000000003, 696.0000000000003, 701.0000000000006, 706.0000000000006, 711.0000000000005, 716.0, 721.0000000000006, 726.0000000000003, 731.0000000000003, 736.0000000000001, 741.0000000000006, 746.0000000000002, 751.0000000000009, 756.0000000000002, 761.0000000000005, 766.0000000000001, 771.0000000000003, 776.0000000000009, 781.0000000000001, 785.9999999999998, 791.0000000000003, 796.0000000000009, 801.0000000000005, 805.9999999999999, 811.0000000000001, 816.0000000000006, 821.0000000000009, 826.0000000000009, 831.0000000000002, 836.0000000000002, 841.0000000000007, 846.0, 851.0000000000007, 856.0000000000005, 861.000000000001, 866.0000000000002, 871.0000000000011, 875.9999999999999, 881.0000000000007, 886.0000000000006, 891.0000000000008, 895.9999999999998, 901.0000000000002, 906.0000000000002, 911.0000000000009, 916.0000000000009, 921.0000000000007, 926.0000000000005, 930.9999999999999, 936.0, 941.0000000000002, 946.0000000000005, 950.9999999999997, 956.0000000000003, 961.0000000000006, 966.0000000000006, 971.0000000000007, 975.9999999999999, 981.0000000000008, 986.0000000000001, 991.0000000000006, 996.0]\n"
     ]
    }
   ],
   "source": [
    "nrow = np.size(new_array, axis=0)\n",
    "print(nrow)\n",
    "ncol = np.size(new_array, axis=1)\n",
    "print(ncol)\n",
    "index = range(ncol)\n",
    "result = []\n",
    "for i in range(nrow):\n",
    "    result.append(last_poly(index, new_array[i, :]))\n",
    "print(result)"
   ]
  },
  {
   "cell_type": "code",
   "execution_count": 153,
   "metadata": {},
   "outputs": [
    {
     "data": {
      "text/plain": [
       "[<matplotlib.lines.Line2D at 0x1a5d7174430>,\n",
       " <matplotlib.lines.Line2D at 0x1a5d7174460>]"
      ]
     },
     "execution_count": 153,
     "metadata": {},
     "output_type": "execute_result"
    },
    {
     "data": {
      "image/png": "[encoded data removed]",
      "text/plain": [
       "<Figure size 432x288 with 1 Axes>"
      ]
     },
     "metadata": {
      "needs_background": "light"
     },
     "output_type": "display_data"
    }
   ],
   "source": [
    "x=range(100)\n",
    "y=np.random.rand(100)\n",
    "p=np.polynomial.Chebyshev.fit(x, y, 9)\n",
    "import matplotlib.pyplot as plt\n",
    "y_fit_n=p(x)\n",
    "plt.plot(x,y,'',x,y_fit_n,'r')"
   ]
  }
 ],
 "metadata": {
  "kernelspec": {
   "display_name": "Python 3",
   "language": "python",
   "name": "python3"
  },
  "language_info": {
   "codemirror_mode": {
    "name": "ipython",
    "version": 3
   },
   "file_extension": ".py",
   "mimetype": "text/x-python",
   "name": "python",
   "nbconvert_exporter": "python",
   "pygments_lexer": "ipython3",
   "version": "3.8.5"
  }
 },
 "nbformat": 4,
 "nbformat_minor": 4
}
