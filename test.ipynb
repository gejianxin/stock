{
 "cells": [
  {
   "cell_type": "code",
   "execution_count": 31,
   "metadata": {},
   "outputs": [],
   "source": [
    "import talib\n",
    "import numpy as np\n",
    "import pandas as pd\n",
    "import math"
   ]
  },
  {
   "cell_type": "code",
   "execution_count": 37,
   "metadata": {
    "scrolled": false
   },
   "outputs": [],
   "source": [
    "def strided_app(origin_array: np.ndarray,\n",
    "                window: int = 252, step=1) -> np.ndarray:\n",
    "    if origin_array.size > window:\n",
    "        nrows = ((origin_array.size - window) // step) + 1\n",
    "    else:\n",
    "        return origin_array\n",
    "    n = origin_array.strides[0]\n",
    "    return np.lib.stride_tricks.as_strided(origin_array,\n",
    "                                           shape=(nrows, window),\n",
    "                                           strides=(step * n, n))\n",
    "\n",
    "def rolling_poly9(origin_array: np.ndarray, window: int = 252) -> np.ndarray:\n",
    "    '''\n",
    "    一次九项式滚动分解拟合\n",
    "    '''\n",
    "    index = range(window)\n",
    "\n",
    "    def last_poly9(array_input):\n",
    "        fit_params = np.polynomial.Chebyshev.fit(index, array_input, 9)\n",
    "        return fit_params(index)[-1]\n",
    "\n",
    "    if (len(origin_array) > window):\n",
    "        stride_matrix = strided_app(origin_array, window, 1)\n",
    "        # numpy.r_[]按照行方向拼接array，list是列向量形式存储，故仅能拼接array\n",
    "        # numpy.c_[]按照列方向拼接array\n",
    "        # .full()填充ndarray\n",
    "        return np.r_[np.full(window - 1, np.nan),\n",
    "                     np.array(list(map(last_poly9, stride_matrix)))]\n",
    "    else:\n",
    "        index = range(len(origin_array))\n",
    "        fit_params = np.polynomial.Chebyshev.fit(index, origin_array, 9)\n",
    "        y_fit_n = fit_params(index)\n",
    "        return y_fit_n"
   ]
  },
  {
   "cell_type": "code",
   "execution_count": null,
   "metadata": {},
   "outputs": [],
   "source": [
    "a = [4,3,2,1]\n",
    "def inverse_num(series):\n",
    "    # 因为numba不支持enumerate，所以后动计算逆序\n",
    "    count = 0\n",
    "    for i in range(len(series)-1):\n",
    "        for j in range(i+1, len(series)):\n",
    "            if series[i] > series[j]:\n",
    "                count += 1\n",
    "        i += 1\n",
    "    return count\n",
    "\n",
    "inverse_num(a)"
   ]
  },
  {
   "cell_type": "code",
   "execution_count": 83,
   "metadata": {},
   "outputs": [
    {
     "output_type": "stream",
     "name": "stdout",
     "text": [
      "                 Open       High        Low  ...    Volume      HMA10  POLYNOMIAL9\n Date                                        ...                                  \n2003-01-02   8.295000   8.830000   8.250000  ...  19640400        NaN          NaN\n2003-01-03   8.750000   9.175000   8.675000  ...  15090600        NaN          NaN\n2003-01-06   8.925000   9.595000   8.890000  ...  21209400        NaN          NaN\n2003-01-07   8.935000   9.650000   8.930000  ...  28092600        NaN          NaN\n2003-01-08   9.435000   9.650000   9.280000  ...  19244600        NaN          NaN\n...               ...        ...        ...  ...       ...        ...          ...\n2005-12-23  41.090000  41.099998  40.450001  ...   5070200  40.554567    39.862968\n2005-12-27  40.650002  40.939999  39.849998  ...  11672900  40.270890    39.662767\n2005-12-28  40.099998  40.480000  39.770000  ...  11567900  40.106364    39.479761\n2005-12-29  40.250000  40.349998  39.410000  ...  10116600  39.875950    39.295612\n2005-12-30  39.400002  39.560001  39.049999  ...  12233000  39.549394    39.083352\n\n[756 rows x 8 columns]\n"
     ]
    }
   ],
   "source": [
    "df = pd.read_csv('data.csv', parse_dates=True, index_col=0)\n",
    "def hma(array2hma: np.array, n: int = 10):\n",
    "    return talib.WMA(2*talib.WMA(array2hma, int(n/2)) - talib.WMA(array2hma, n), int(math.sqrt(n)))\n",
    "\n",
    "df['HMA10'] = hma(df['Close'].values)\n",
    "# df['hma10'][~np.isnan(df['hma10'])]\n",
    "# print(df['hma10'])\n",
    "# print(df[hma10 != np.nan])\n",
    "\n",
    "df['POLYNOMIAL9'] = np.r_[np.full(len(df['HMA10'][np.isnan(df['HMA10'])]),np.nan),rolling_poly9(df['HMA10'][~np.isnan(df['HMA10'])].values,252)]\n",
    "print(df)"
   ]
  }
 ],
 "metadata": {
  "kernelspec": {
   "name": "python385jvsc74a57bd0718d91d85e7b59cfcf17c81aa38a885d0985cff083e53af9937fe7d5deb25dec",
   "display_name": "Python 3.8.5 64-bit ('base': conda)"
  },
  "language_info": {
   "codemirror_mode": {
    "name": "ipython",
    "version": 3
   },
   "file_extension": ".py",
   "mimetype": "text/x-python",
   "name": "python",
   "nbconvert_exporter": "python",
   "pygments_lexer": "ipython3",
   "version": "3.8.5"
  }
 },
 "nbformat": 4,
 "nbformat_minor": 4
}